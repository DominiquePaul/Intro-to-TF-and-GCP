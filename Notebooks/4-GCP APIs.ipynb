{
 "cells": [
  {
   "cell_type": "markdown",
   "metadata": {},
   "source": [
    "# 4 GCP APIs\n",
    "This Notebook will provide a short overview of using the Google Cloud Platform natural language API"
   ]
  },
  {
   "cell_type": "code",
   "execution_count": 1,
   "metadata": {},
   "outputs": [],
   "source": [
    "from google.cloud import language\n",
    "from google.cloud.language import types\n",
    "from google.cloud.language import enums\n",
    "import os"
   ]
  },
  {
   "cell_type": "markdown",
   "metadata": {},
   "source": [
    "## Credentials\n",
    "These are my personal credentials associated with my account (which are not on github). If you want to run this script on your own computer you will have to sign up and replace the file path wih the path to your own credentials.\n",
    "\n",
    "You can sign up for Google Cloud Platform for free and receive 300$ worth of credit which you can use to explore their services and play around. It will also last some time for deploying your own python app\n",
    "\n",
    "https://cloud.google.com/"
   ]
  },
  {
   "cell_type": "code",
   "execution_count": 5,
   "metadata": {},
   "outputs": [],
   "source": [
    "os.environ[\"GOOGLE_APPLICATION_CREDENTIALS\"]=\"/Users/dominiquepaul/xJob/4-Lecture/Credentials/siaw-spark-91597d721c12.json\"\n"
   ]
  },
  {
   "cell_type": "markdown",
   "metadata": {},
   "source": [
    "### Writing a main function\n",
    "This function takes a text and returns the output of the google natural language API."
   ]
  },
  {
   "cell_type": "code",
   "execution_count": 6,
   "metadata": {},
   "outputs": [],
   "source": [
    "def language_analysis(text):\n",
    "    # invokes the instance through which we can communicate with Google's server\n",
    "    client = language.LanguageServiceClient()\n",
    "    # As an input to the API we need to format our input text as a special document type.\n",
    "    # This document contains further information which tells the API how to read it.\n",
    "    document = types.Document(\n",
    "        content=text,\n",
    "        type=enums.Document.Type.PLAIN_TEXT)\n",
    "    \n",
    "    # Run the sentiment analysis. This tells us what overall emotion of the\n",
    "    # text is (good or bad) and how strong it is (0 to infinity)\n",
    "    sent_analysis = client.analyze_sentiment(document)\n",
    "    sentiment = sent_analysis.document_sentiment\n",
    "\n",
    "    # When analysing for entities, the API will look at the specific words in\n",
    "    # the text and try to identify their meaning in the text\n",
    "    ent_analysis = client.analyze_entities(document)\n",
    "    entities = ent_analysis.entities\n",
    "\n",
    "    return(sentiment, entities)"
   ]
  },
  {
   "cell_type": "markdown",
   "metadata": {},
   "source": [
    "## Example 1: \n",
    "We create a sample text and run it through the function to examine the performance"
   ]
  },
  {
   "cell_type": "code",
   "execution_count": 7,
   "metadata": {},
   "outputs": [],
   "source": [
    "sample1 = \"Angela Merkel's party, the CDU, performed very poorly in this years german elections\"\n",
    "sentiment, entities = language_analysis(sample1)"
   ]
  },
  {
   "cell_type": "markdown",
   "metadata": {},
   "source": [
    "Lets take a look at the results:"
   ]
  },
  {
   "cell_type": "code",
   "execution_count": 8,
   "metadata": {
    "collapsed": true
   },
   "outputs": [
    {
     "name": "stdout",
     "output_type": "stream",
     "text": [
      "-0.8999999761581421 0.8999999761581421\n",
      "[name: \"CDU\"\n",
      "type: ORGANIZATION\n",
      "metadata {\n",
      "  key: \"mid\"\n",
      "  value: \"/m/0gg68\"\n",
      "}\n",
      "metadata {\n",
      "  key: \"wikipedia_url\"\n",
      "  value: \"https://en.wikipedia.org/wiki/Christian_Democratic_Union_of_Germany\"\n",
      "}\n",
      "salience: 0.5129935145378113\n",
      "mentions {\n",
      "  text {\n",
      "    content: \"party\"\n",
      "    begin_offset: -1\n",
      "  }\n",
      "  type: COMMON\n",
      "}\n",
      "mentions {\n",
      "  text {\n",
      "    content: \"CDU\"\n",
      "    begin_offset: -1\n",
      "  }\n",
      "  type: PROPER\n",
      "}\n",
      ", name: \"Angela Merkel\"\n",
      "type: PERSON\n",
      "metadata {\n",
      "  key: \"mid\"\n",
      "  value: \"/m/0jl0g\"\n",
      "}\n",
      "metadata {\n",
      "  key: \"wikipedia_url\"\n",
      "  value: \"https://en.wikipedia.org/wiki/Angela_Merkel\"\n",
      "}\n",
      "salience: 0.33489271998405457\n",
      "mentions {\n",
      "  text {\n",
      "    content: \"Angela Merkel\"\n",
      "    begin_offset: -1\n",
      "  }\n",
      "  type: PROPER\n",
      "}\n",
      ", name: \"elections\"\n",
      "type: EVENT\n",
      "salience: 0.08221924304962158\n",
      "mentions {\n",
      "  text {\n",
      "    content: \"elections\"\n",
      "    begin_offset: -1\n",
      "  }\n",
      "  type: COMMON\n",
      "}\n",
      ", name: \"german\"\n",
      "type: LOCATION\n",
      "metadata {\n",
      "  key: \"mid\"\n",
      "  value: \"/m/0345h\"\n",
      "}\n",
      "metadata {\n",
      "  key: \"wikipedia_url\"\n",
      "  value: \"https://en.wikipedia.org/wiki/Germany\"\n",
      "}\n",
      "salience: 0.06989450752735138\n",
      "mentions {\n",
      "  text {\n",
      "    content: \"german\"\n",
      "    begin_offset: -1\n",
      "  }\n",
      "  type: PROPER\n",
      "}\n",
      "]\n"
     ]
    }
   ],
   "source": [
    "print(sentiment.score, sentiment.magnitude)\n",
    "print(entities)"
   ]
  },
  {
   "cell_type": "markdown",
   "metadata": {},
   "source": [
    "## Example 2: \n",
    "One use case for the API might be a big company which wants to know what its customers are saying about their products online, but doesnt have the resources or time to do this by hand.\n",
    "\n",
    "For this they could use the API to analyse all of the products and be notified if something might be wrong with some of the products.  \n",
    "\n",
    "Source of the comment: \n",
    "https://www.galaxus.ch/de/s1/product/sony-playstation-classic-spielkonsole-9676457"
   ]
  },
  {
   "cell_type": "code",
   "execution_count": null,
   "metadata": {},
   "outputs": [],
   "source": [
    "\n",
    "\n",
    "sample2 = \"\"\"Schlechteste Emulation der Spiele bisher, keine gute Anpassung auf HD-Fernseher. FINGER WEG.\n",
    "Es fehlen ein paar wichtige Spiele der PS-Ära wie z.B. Gran Turismo, Tony Hawk oder Tomb Raider.\n",
    "Die Spiele laufen praktisch alle schlechter als damals auf der PlayStation. GTA ist praktisch unspielbar und ruckelt mit unter 20 fps. Die mit Abstand schlechteste Emulation, die Sony je geliefert hat. Sämtliche Konsolen, von PS2 bis Vita liefern eine bessere Emulation der alten Spiele. Holt euch die gewünschten Games also lieber auf einer anderen von Sonys Plattformen, da laufen die besser. Das hier ist nur überteuerter Plastikmüll, der schnell wieder in der Ecke landet.\n",
    "\"\"\"\n",
    "sentiment, entities = language_analysis(sample2)\n",
    "\n",
    "# print the results:\n",
    "print(sentiment.score, sentiment.magnitude)\n",
    "print(entities)\n"
   ]
  }
 ],
 "metadata": {
  "kernelspec": {
   "display_name": "Python 3",
   "language": "python",
   "name": "python3"
  },
  "language_info": {
   "codemirror_mode": {
    "name": "ipython",
    "version": 3
   },
   "file_extension": ".py",
   "mimetype": "text/x-python",
   "name": "python",
   "nbconvert_exporter": "python",
   "pygments_lexer": "ipython3",
   "version": "3.6.6"
  }
 },
 "nbformat": 4,
 "nbformat_minor": 2
}
