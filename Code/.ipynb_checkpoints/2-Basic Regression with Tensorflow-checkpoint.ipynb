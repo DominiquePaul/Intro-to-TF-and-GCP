{
 "cells": [
  {
   "cell_type": "markdown",
   "metadata": {},
   "source": [
    "# 2. Basic Regression with Tensorflow"
   ]
  },
  {
   "cell_type": "code",
   "execution_count": 10,
   "metadata": {},
   "outputs": [],
   "source": [
    "import tensorflow as tf\n",
    "from sklearn import datasets # we need this to import the Iris Dataset\n",
    "import numpy as np"
   ]
  },
  {
   "cell_type": "markdown",
   "metadata": {},
   "source": [
    "## 2.1 Creating Our Model"
   ]
  },
  {
   "cell_type": "markdown",
   "metadata": {},
   "source": [
    "### Defining Hyperparameters"
   ]
  },
  {
   "cell_type": "code",
   "execution_count": 11,
   "metadata": {},
   "outputs": [],
   "source": [
    "learning_rate = 0.02\n",
    "iterations = 2000"
   ]
  },
  {
   "cell_type": "markdown",
   "metadata": {},
   "source": [
    "### Defining Placeholders:"
   ]
  },
  {
   "cell_type": "markdown",
   "metadata": {},
   "source": [
    "These are tensors but without any values. We are telling TF to create tensors with the promise that we will later fill in values for these. This is good if our training data isn't always the same, for example when we are using batches."
   ]
  },
  {
   "cell_type": "code",
   "execution_count": 12,
   "metadata": {},
   "outputs": [],
   "source": [
    "x = tf.placeholder(tf.float32,shape=[None,1], name=\"input-data\")\n",
    "y = tf.placeholder(tf.float32, shape=[None,1], name=\"ground-truth-labels\")"
   ]
  },
  {
   "cell_type": "markdown",
   "metadata": {},
   "source": [
    "### Defining Variables\n",
    "Tensorflow knows that it can adjust the weights of these"
   ]
  },
  {
   "cell_type": "code",
   "execution_count": 13,
   "metadata": {},
   "outputs": [],
   "source": [
    "W = tf.Variable(np.random.randn(), name=\"weight\")\n",
    "b = tf.Variable(np.random.randn(), name=\"bias\")\n"
   ]
  },
  {
   "cell_type": "markdown",
   "metadata": {},
   "source": [
    "### Defining the model\n",
    "We are using classic OLS regression so our model has the form: \n",
    "\n",
    "    y_hat = ß0 + ß1 * X1"
   ]
  },
  {
   "cell_type": "code",
   "execution_count": 14,
   "metadata": {
    "scrolled": false
   },
   "outputs": [],
   "source": [
    "y_pred = tf.add(tf.multiply(x,W), b)"
   ]
  },
  {
   "cell_type": "markdown",
   "metadata": {},
   "source": [
    "### Defining our Loss\n",
    "We are using the Mean Squared Error (MSE) as out loss / error function"
   ]
  },
  {
   "cell_type": "code",
   "execution_count": 15,
   "metadata": {},
   "outputs": [],
   "source": [
    "loss = tf.reduce_sum(tf.pow(y_pred - y, 2)) / (2 * 100)"
   ]
  },
  {
   "cell_type": "markdown",
   "metadata": {},
   "source": [
    "### The optimizer\n",
    "The optimizer is a TF object that takes care of of adjusting our model. It calculates the gradients and adjusts our weights."
   ]
  },
  {
   "cell_type": "code",
   "execution_count": 16,
   "metadata": {},
   "outputs": [],
   "source": [
    "optimizer = tf.train.AdamOptimizer(learning_rate).minimize(loss)\n"
   ]
  },
  {
   "cell_type": "markdown",
   "metadata": {},
   "source": [
    "## 2.2 Loading the Data"
   ]
  },
  {
   "cell_type": "code",
   "execution_count": 17,
   "metadata": {},
   "outputs": [],
   "source": [
    "data = datasets.load_iris()\n",
    "features = data[\"data\"][:100,0].reshape(100,1)\n",
    "labels = data[\"target\"][:100].reshape(100,1)\n",
    "s = np.arange(features.shape[0])\n",
    "np.random.shuffle(s)\n",
    "features = features[s]\n",
    "labels = labels[s]"
   ]
  },
  {
   "cell_type": "markdown",
   "metadata": {},
   "source": [
    "A helper function to calculate the accuracy of our model"
   ]
  },
  {
   "cell_type": "code",
   "execution_count": 50,
   "metadata": {},
   "outputs": [],
   "source": [
    "def calc_accuracy(reg_vals, true_vals, limit):\n",
    "    reg_vals = np.array(reg_vals)\n",
    "    preds = np.where(reg_vals > limit,1,0)\n",
    "    acc = (len(true_vals) - np.abs(preds - true_vals).sum()) / len(true_vals)\n",
    "    return(acc)"
   ]
  },
  {
   "cell_type": "markdown",
   "metadata": {},
   "source": [
    "## 2.3 Running the model"
   ]
  },
  {
   "cell_type": "code",
   "execution_count": 51,
   "metadata": {
    "scrolled": true
   },
   "outputs": [
    {
     "name": "stdout",
     "output_type": "stream",
     "text": [
      "Iteration 0, Loss: 5.642588138580322\n",
      "Iteration 200, Loss: 0.1409493386745453\n",
      "Iteration 400, Loss: 0.1281639188528061\n",
      "Iteration 600, Loss: 0.11386275291442871\n",
      "Iteration 800, Loss: 0.10004881024360657\n",
      "Iteration 1000, Loss: 0.0879577025771141\n",
      "Iteration 1200, Loss: 0.07820592075586319\n",
      "Iteration 1400, Loss: 0.07091391086578369\n",
      "Iteration 1600, Loss: 0.06585236638784409\n",
      "Iteration 1800, Loss: 0.06259641796350479\n",
      "Our final loss is 0.0606623999774456.\n"
     ]
    }
   ],
   "source": [
    "init = tf.global_variables_initializer()\n",
    "\n",
    "with tf.Session() as sess:\n",
    "    sess.run(init)\n",
    "\n",
    "    for i in range(iterations):\n",
    "\n",
    "        # we run the session. Note how the feed_dict variable passes on\n",
    "        # the variables for our placeholder tensors\n",
    "        loss_train, _ = sess.run([loss, optimizer], feed_dict={x: features, y: labels})\n",
    "        if i % 200 == 0:\n",
    "            print(f\"Iteration {i}, Loss: {loss_train}\")\n",
    "\n",
    "    loss_test = sess.run(loss, feed_dict={x:features, y:labels})\n",
    "    print(f\"Our final loss is {loss_test}.\")\n",
    "\n",
    "    y_preds_final = sess.run([y_pred], feed_dict={x:features, y:labels})"
   ]
  },
  {
   "cell_type": "markdown",
   "metadata": {},
   "source": [
    "### Calculating the final Accuracy:"
   ]
  },
  {
   "cell_type": "code",
   "execution_count": 52,
   "metadata": {},
   "outputs": [
    {
     "data": {
      "text/plain": [
       "0.89"
      ]
     },
     "execution_count": 52,
     "metadata": {},
     "output_type": "execute_result"
    }
   ],
   "source": [
    "calc_accuracy(y_preds_final, labels, 0.5)"
   ]
  }
 ],
 "metadata": {
  "kernelspec": {
   "display_name": "Python 3",
   "language": "python",
   "name": "python3"
  },
  "language_info": {
   "codemirror_mode": {
    "name": "ipython",
    "version": 3
   },
   "file_extension": ".py",
   "mimetype": "text/x-python",
   "name": "python",
   "nbconvert_exporter": "python",
   "pygments_lexer": "ipython3",
   "version": "3.6.6"
  }
 },
 "nbformat": 4,
 "nbformat_minor": 2
}
